{
 "cells": [
  {
   "cell_type": "markdown",
   "id": "3b6be131",
   "metadata": {},
   "source": [
    "# Imports"
   ]
  },
  {
   "cell_type": "code",
   "execution_count": 1,
   "id": "b4e1b560",
   "metadata": {
    "ExecuteTime": {
     "end_time": "2023-08-26T18:56:18.993673Z",
     "start_time": "2023-08-26T18:56:15.707177Z"
    }
   },
   "outputs": [],
   "source": [
    "import pandas  as pd\n",
    "import numpy   as np\n",
    "import seaborn as sns\n",
    "\n",
    "\n",
    "from matplotlib           import pyplot as plt\n",
    "from sklearn.linear_model import LinearRegression\n",
    "from sklearn              import metrics as mt"
   ]
  },
  {
   "cell_type": "markdown",
   "id": "23549d0b",
   "metadata": {},
   "source": [
    "# Load Dataset"
   ]
  },
  {
   "cell_type": "code",
   "execution_count": 268,
   "id": "21cc9a81",
   "metadata": {
    "ExecuteTime": {
     "end_time": "2023-08-26T21:14:06.389965Z",
     "start_time": "2023-08-26T21:14:06.355767Z"
    }
   },
   "outputs": [],
   "source": [
    "df = pd.read_csv( 'data/train.csv' )"
   ]
  },
  {
   "cell_type": "code",
   "execution_count": 270,
   "id": "94d5ee91",
   "metadata": {
    "ExecuteTime": {
     "end_time": "2023-08-26T21:14:16.596851Z",
     "start_time": "2023-08-26T21:14:16.571391Z"
    }
   },
   "outputs": [
    {
     "data": {
      "text/html": [
       "<div>\n",
       "<style scoped>\n",
       "    .dataframe tbody tr th:only-of-type {\n",
       "        vertical-align: middle;\n",
       "    }\n",
       "\n",
       "    .dataframe tbody tr th {\n",
       "        vertical-align: top;\n",
       "    }\n",
       "\n",
       "    .dataframe thead th {\n",
       "        text-align: right;\n",
       "    }\n",
       "</style>\n",
       "<table border=\"1\" class=\"dataframe\">\n",
       "  <thead>\n",
       "    <tr style=\"text-align: right;\">\n",
       "      <th></th>\n",
       "      <th>id_cliente</th>\n",
       "      <th>idade</th>\n",
       "      <th>saldo_atual</th>\n",
       "      <th>divida_atual</th>\n",
       "      <th>renda_anual</th>\n",
       "      <th>valor_em_investimentos</th>\n",
       "      <th>taxa_utilizacao_credito</th>\n",
       "      <th>num_emprestimos</th>\n",
       "      <th>num_contas_bancarias</th>\n",
       "      <th>num_cartoes_credito</th>\n",
       "      <th>dias_atraso_dt_venc</th>\n",
       "      <th>num_pgtos_atrasados</th>\n",
       "      <th>num_consultas_credito</th>\n",
       "      <th>taxa_juros</th>\n",
       "      <th>investe_exterior</th>\n",
       "      <th>pessoa_polit_exp</th>\n",
       "      <th>limite_adicional</th>\n",
       "    </tr>\n",
       "  </thead>\n",
       "  <tbody>\n",
       "    <tr>\n",
       "      <th>0</th>\n",
       "      <td>1767</td>\n",
       "      <td>21</td>\n",
       "      <td>278.172008</td>\n",
       "      <td>2577.05</td>\n",
       "      <td>24196.89636</td>\n",
       "      <td>104.306544</td>\n",
       "      <td>31.038763</td>\n",
       "      <td>6</td>\n",
       "      <td>5</td>\n",
       "      <td>7</td>\n",
       "      <td>21</td>\n",
       "      <td>14</td>\n",
       "      <td>9</td>\n",
       "      <td>15</td>\n",
       "      <td>Não</td>\n",
       "      <td>Não</td>\n",
       "      <td>Negar</td>\n",
       "    </tr>\n",
       "    <tr>\n",
       "      <th>1</th>\n",
       "      <td>11920</td>\n",
       "      <td>40</td>\n",
       "      <td>268.874152</td>\n",
       "      <td>2465.39</td>\n",
       "      <td>19227.37796</td>\n",
       "      <td>69.858778</td>\n",
       "      <td>36.917093</td>\n",
       "      <td>5</td>\n",
       "      <td>8</td>\n",
       "      <td>5</td>\n",
       "      <td>40</td>\n",
       "      <td>23</td>\n",
       "      <td>10</td>\n",
       "      <td>18</td>\n",
       "      <td>Não</td>\n",
       "      <td>Não</td>\n",
       "      <td>Negar</td>\n",
       "    </tr>\n",
       "    <tr>\n",
       "      <th>2</th>\n",
       "      <td>8910</td>\n",
       "      <td>36</td>\n",
       "      <td>446.643127</td>\n",
       "      <td>1055.29</td>\n",
       "      <td>42822.28223</td>\n",
       "      <td>134.201478</td>\n",
       "      <td>34.561714</td>\n",
       "      <td>0</td>\n",
       "      <td>3</td>\n",
       "      <td>6</td>\n",
       "      <td>26</td>\n",
       "      <td>13</td>\n",
       "      <td>3</td>\n",
       "      <td>15</td>\n",
       "      <td>Sim</td>\n",
       "      <td>Não</td>\n",
       "      <td>Negar</td>\n",
       "    </tr>\n",
       "    <tr>\n",
       "      <th>3</th>\n",
       "      <td>4964</td>\n",
       "      <td>58</td>\n",
       "      <td>321.141267</td>\n",
       "      <td>703.05</td>\n",
       "      <td>51786.82600</td>\n",
       "      <td>297.350067</td>\n",
       "      <td>31.493561</td>\n",
       "      <td>0</td>\n",
       "      <td>3</td>\n",
       "      <td>7</td>\n",
       "      <td>12</td>\n",
       "      <td>7</td>\n",
       "      <td>2</td>\n",
       "      <td>1</td>\n",
       "      <td>Sim</td>\n",
       "      <td>Não</td>\n",
       "      <td>Negar</td>\n",
       "    </tr>\n",
       "    <tr>\n",
       "      <th>4</th>\n",
       "      <td>10100</td>\n",
       "      <td>35</td>\n",
       "      <td>428.716114</td>\n",
       "      <td>891.29</td>\n",
       "      <td>44626.85346</td>\n",
       "      <td>134.201478</td>\n",
       "      <td>28.028887</td>\n",
       "      <td>2</td>\n",
       "      <td>8</td>\n",
       "      <td>7</td>\n",
       "      <td>24</td>\n",
       "      <td>10</td>\n",
       "      <td>8</td>\n",
       "      <td>20</td>\n",
       "      <td>Sim</td>\n",
       "      <td>Não</td>\n",
       "      <td>Negar</td>\n",
       "    </tr>\n",
       "  </tbody>\n",
       "</table>\n",
       "</div>"
      ],
      "text/plain": [
       "   id_cliente  idade  saldo_atual  divida_atual  renda_anual  \\\n",
       "0        1767     21   278.172008       2577.05  24196.89636   \n",
       "1       11920     40   268.874152       2465.39  19227.37796   \n",
       "2        8910     36   446.643127       1055.29  42822.28223   \n",
       "3        4964     58   321.141267        703.05  51786.82600   \n",
       "4       10100     35   428.716114        891.29  44626.85346   \n",
       "\n",
       "   valor_em_investimentos  taxa_utilizacao_credito  num_emprestimos  \\\n",
       "0              104.306544                31.038763                6   \n",
       "1               69.858778                36.917093                5   \n",
       "2              134.201478                34.561714                0   \n",
       "3              297.350067                31.493561                0   \n",
       "4              134.201478                28.028887                2   \n",
       "\n",
       "   num_contas_bancarias  num_cartoes_credito  dias_atraso_dt_venc  \\\n",
       "0                     5                    7                   21   \n",
       "1                     8                    5                   40   \n",
       "2                     3                    6                   26   \n",
       "3                     3                    7                   12   \n",
       "4                     8                    7                   24   \n",
       "\n",
       "   num_pgtos_atrasados  num_consultas_credito  taxa_juros investe_exterior  \\\n",
       "0                   14                      9          15              Não   \n",
       "1                   23                     10          18              Não   \n",
       "2                   13                      3          15              Sim   \n",
       "3                    7                      2           1              Sim   \n",
       "4                   10                      8          20              Sim   \n",
       "\n",
       "  pessoa_polit_exp limite_adicional  \n",
       "0              Não            Negar  \n",
       "1              Não            Negar  \n",
       "2              Não            Negar  \n",
       "3              Não            Negar  \n",
       "4              Não            Negar  "
      ]
     },
     "execution_count": 270,
     "metadata": {},
     "output_type": "execute_result"
    }
   ],
   "source": [
    "df.head()"
   ]
  },
  {
   "cell_type": "markdown",
   "id": "5187ae3b",
   "metadata": {},
   "source": [
    "# Data Preparation"
   ]
  },
  {
   "cell_type": "code",
   "execution_count": 4,
   "id": "dfab2288",
   "metadata": {
    "ExecuteTime": {
     "end_time": "2023-08-26T18:56:32.871777Z",
     "start_time": "2023-08-26T18:56:32.859047Z"
    }
   },
   "outputs": [],
   "source": [
    "features = ['idade','divida_atual', 'renda_anual',\n",
    "           'valor_em_investimentos', 'taxa_utilizacao_credito', 'num_emprestimos',\n",
    "           'num_contas_bancarias', 'num_cartoes_credito', 'dias_atraso_dt_venc',\n",
    "           'num_pgtos_atrasados', 'num_consultas_credito', 'taxa_juros'\n",
    "           ]\n",
    "label = ['saldo_atual']"
   ]
  },
  {
   "cell_type": "code",
   "execution_count": 5,
   "id": "5582126f",
   "metadata": {
    "ExecuteTime": {
     "end_time": "2023-08-26T18:56:36.778794Z",
     "start_time": "2023-08-26T18:56:36.770749Z"
    }
   },
   "outputs": [],
   "source": [
    "x_train = df.loc[ : , features ]\n",
    "y_train = df.loc[ : , label]"
   ]
  },
  {
   "cell_type": "code",
   "execution_count": 266,
   "id": "9a2ff212",
   "metadata": {
    "ExecuteTime": {
     "end_time": "2023-08-26T21:12:49.465234Z",
     "start_time": "2023-08-26T21:12:49.436805Z"
    }
   },
   "outputs": [
    {
     "data": {
      "text/html": [
       "<div>\n",
       "<style scoped>\n",
       "    .dataframe tbody tr th:only-of-type {\n",
       "        vertical-align: middle;\n",
       "    }\n",
       "\n",
       "    .dataframe tbody tr th {\n",
       "        vertical-align: top;\n",
       "    }\n",
       "\n",
       "    .dataframe thead th {\n",
       "        text-align: right;\n",
       "    }\n",
       "</style>\n",
       "<table border=\"1\" class=\"dataframe\">\n",
       "  <thead>\n",
       "    <tr style=\"text-align: right;\">\n",
       "      <th></th>\n",
       "      <th>idade</th>\n",
       "      <th>divida_atual</th>\n",
       "      <th>renda_anual</th>\n",
       "      <th>valor_em_investimentos</th>\n",
       "      <th>taxa_utilizacao_credito</th>\n",
       "      <th>num_emprestimos</th>\n",
       "      <th>num_contas_bancarias</th>\n",
       "      <th>num_cartoes_credito</th>\n",
       "      <th>dias_atraso_dt_venc</th>\n",
       "      <th>num_pgtos_atrasados</th>\n",
       "      <th>num_consultas_credito</th>\n",
       "      <th>taxa_juros</th>\n",
       "    </tr>\n",
       "  </thead>\n",
       "  <tbody>\n",
       "    <tr>\n",
       "      <th>0</th>\n",
       "      <td>21</td>\n",
       "      <td>2577.05</td>\n",
       "      <td>24196.89636</td>\n",
       "      <td>104.306544</td>\n",
       "      <td>31.038763</td>\n",
       "      <td>6</td>\n",
       "      <td>5</td>\n",
       "      <td>7</td>\n",
       "      <td>21</td>\n",
       "      <td>14</td>\n",
       "      <td>9</td>\n",
       "      <td>15</td>\n",
       "    </tr>\n",
       "    <tr>\n",
       "      <th>1</th>\n",
       "      <td>40</td>\n",
       "      <td>2465.39</td>\n",
       "      <td>19227.37796</td>\n",
       "      <td>69.858778</td>\n",
       "      <td>36.917093</td>\n",
       "      <td>5</td>\n",
       "      <td>8</td>\n",
       "      <td>5</td>\n",
       "      <td>40</td>\n",
       "      <td>23</td>\n",
       "      <td>10</td>\n",
       "      <td>18</td>\n",
       "    </tr>\n",
       "    <tr>\n",
       "      <th>2</th>\n",
       "      <td>36</td>\n",
       "      <td>1055.29</td>\n",
       "      <td>42822.28223</td>\n",
       "      <td>134.201478</td>\n",
       "      <td>34.561714</td>\n",
       "      <td>0</td>\n",
       "      <td>3</td>\n",
       "      <td>6</td>\n",
       "      <td>26</td>\n",
       "      <td>13</td>\n",
       "      <td>3</td>\n",
       "      <td>15</td>\n",
       "    </tr>\n",
       "    <tr>\n",
       "      <th>3</th>\n",
       "      <td>58</td>\n",
       "      <td>703.05</td>\n",
       "      <td>51786.82600</td>\n",
       "      <td>297.350067</td>\n",
       "      <td>31.493561</td>\n",
       "      <td>0</td>\n",
       "      <td>3</td>\n",
       "      <td>7</td>\n",
       "      <td>12</td>\n",
       "      <td>7</td>\n",
       "      <td>2</td>\n",
       "      <td>1</td>\n",
       "    </tr>\n",
       "    <tr>\n",
       "      <th>4</th>\n",
       "      <td>35</td>\n",
       "      <td>891.29</td>\n",
       "      <td>44626.85346</td>\n",
       "      <td>134.201478</td>\n",
       "      <td>28.028887</td>\n",
       "      <td>2</td>\n",
       "      <td>8</td>\n",
       "      <td>7</td>\n",
       "      <td>24</td>\n",
       "      <td>10</td>\n",
       "      <td>8</td>\n",
       "      <td>20</td>\n",
       "    </tr>\n",
       "    <tr>\n",
       "      <th>...</th>\n",
       "      <td>...</td>\n",
       "      <td>...</td>\n",
       "      <td>...</td>\n",
       "      <td>...</td>\n",
       "      <td>...</td>\n",
       "      <td>...</td>\n",
       "      <td>...</td>\n",
       "      <td>...</td>\n",
       "      <td>...</td>\n",
       "      <td>...</td>\n",
       "      <td>...</td>\n",
       "      <td>...</td>\n",
       "    </tr>\n",
       "    <tr>\n",
       "      <th>9495</th>\n",
       "      <td>29</td>\n",
       "      <td>157.98</td>\n",
       "      <td>32624.67754</td>\n",
       "      <td>237.739275</td>\n",
       "      <td>32.407322</td>\n",
       "      <td>100</td>\n",
       "      <td>4</td>\n",
       "      <td>4</td>\n",
       "      <td>24</td>\n",
       "      <td>15</td>\n",
       "      <td>1</td>\n",
       "      <td>14</td>\n",
       "    </tr>\n",
       "    <tr>\n",
       "      <th>9496</th>\n",
       "      <td>1237</td>\n",
       "      <td>805.43</td>\n",
       "      <td>49024.15700</td>\n",
       "      <td>118.883577</td>\n",
       "      <td>23.632195</td>\n",
       "      <td>0</td>\n",
       "      <td>4</td>\n",
       "      <td>7</td>\n",
       "      <td>10</td>\n",
       "      <td>11</td>\n",
       "      <td>2</td>\n",
       "      <td>3</td>\n",
       "    </tr>\n",
       "    <tr>\n",
       "      <th>9497</th>\n",
       "      <td>47</td>\n",
       "      <td>2250.42</td>\n",
       "      <td>42200.88978</td>\n",
       "      <td>134.201478</td>\n",
       "      <td>34.623576</td>\n",
       "      <td>4</td>\n",
       "      <td>4</td>\n",
       "      <td>4</td>\n",
       "      <td>13</td>\n",
       "      <td>8</td>\n",
       "      <td>4</td>\n",
       "      <td>24</td>\n",
       "    </tr>\n",
       "    <tr>\n",
       "      <th>9498</th>\n",
       "      <td>42</td>\n",
       "      <td>505.37</td>\n",
       "      <td>35391.32289</td>\n",
       "      <td>245.498881</td>\n",
       "      <td>28.758818</td>\n",
       "      <td>3</td>\n",
       "      <td>7</td>\n",
       "      <td>6</td>\n",
       "      <td>24</td>\n",
       "      <td>13</td>\n",
       "      <td>3</td>\n",
       "      <td>11</td>\n",
       "    </tr>\n",
       "    <tr>\n",
       "      <th>9499</th>\n",
       "      <td>35</td>\n",
       "      <td>851.22</td>\n",
       "      <td>106192.53216</td>\n",
       "      <td>78.140488</td>\n",
       "      <td>30.528134</td>\n",
       "      <td>0</td>\n",
       "      <td>0</td>\n",
       "      <td>6</td>\n",
       "      <td>8</td>\n",
       "      <td>4</td>\n",
       "      <td>2377</td>\n",
       "      <td>3</td>\n",
       "    </tr>\n",
       "  </tbody>\n",
       "</table>\n",
       "<p>9500 rows × 12 columns</p>\n",
       "</div>"
      ],
      "text/plain": [
       "      idade  divida_atual   renda_anual  valor_em_investimentos  \\\n",
       "0        21       2577.05   24196.89636              104.306544   \n",
       "1        40       2465.39   19227.37796               69.858778   \n",
       "2        36       1055.29   42822.28223              134.201478   \n",
       "3        58        703.05   51786.82600              297.350067   \n",
       "4        35        891.29   44626.85346              134.201478   \n",
       "...     ...           ...           ...                     ...   \n",
       "9495     29        157.98   32624.67754              237.739275   \n",
       "9496   1237        805.43   49024.15700              118.883577   \n",
       "9497     47       2250.42   42200.88978              134.201478   \n",
       "9498     42        505.37   35391.32289              245.498881   \n",
       "9499     35        851.22  106192.53216               78.140488   \n",
       "\n",
       "      taxa_utilizacao_credito  num_emprestimos  num_contas_bancarias  \\\n",
       "0                   31.038763                6                     5   \n",
       "1                   36.917093                5                     8   \n",
       "2                   34.561714                0                     3   \n",
       "3                   31.493561                0                     3   \n",
       "4                   28.028887                2                     8   \n",
       "...                       ...              ...                   ...   \n",
       "9495                32.407322              100                     4   \n",
       "9496                23.632195                0                     4   \n",
       "9497                34.623576                4                     4   \n",
       "9498                28.758818                3                     7   \n",
       "9499                30.528134                0                     0   \n",
       "\n",
       "      num_cartoes_credito  dias_atraso_dt_venc  num_pgtos_atrasados  \\\n",
       "0                       7                   21                   14   \n",
       "1                       5                   40                   23   \n",
       "2                       6                   26                   13   \n",
       "3                       7                   12                    7   \n",
       "4                       7                   24                   10   \n",
       "...                   ...                  ...                  ...   \n",
       "9495                    4                   24                   15   \n",
       "9496                    7                   10                   11   \n",
       "9497                    4                   13                    8   \n",
       "9498                    6                   24                   13   \n",
       "9499                    6                    8                    4   \n",
       "\n",
       "      num_consultas_credito  taxa_juros  \n",
       "0                         9          15  \n",
       "1                        10          18  \n",
       "2                         3          15  \n",
       "3                         2           1  \n",
       "4                         8          20  \n",
       "...                     ...         ...  \n",
       "9495                      1          14  \n",
       "9496                      2           3  \n",
       "9497                      4          24  \n",
       "9498                      3          11  \n",
       "9499                   2377           3  \n",
       "\n",
       "[9500 rows x 12 columns]"
      ]
     },
     "execution_count": 266,
     "metadata": {},
     "output_type": "execute_result"
    }
   ],
   "source": [
    "x_train"
   ]
  },
  {
   "cell_type": "markdown",
   "id": "036ee13c",
   "metadata": {},
   "source": [
    "# Model Training"
   ]
  },
  {
   "cell_type": "code",
   "execution_count": 6,
   "id": "2e922295",
   "metadata": {
    "ExecuteTime": {
     "end_time": "2023-08-26T18:56:39.844549Z",
     "start_time": "2023-08-26T18:56:39.698833Z"
    }
   },
   "outputs": [],
   "source": [
    "# instance model\n",
    "lr = LinearRegression()\n",
    "\n",
    "# train model\n",
    "lr.fit( x_train , y_train )\n",
    "\n",
    "# predict\n",
    "y_pred = lr.predict( x_train ) "
   ]
  },
  {
   "cell_type": "code",
   "execution_count": 7,
   "id": "45ce5a64",
   "metadata": {
    "ExecuteTime": {
     "end_time": "2023-08-26T18:57:01.992042Z",
     "start_time": "2023-08-26T18:57:01.986028Z"
    }
   },
   "outputs": [],
   "source": [
    "df1 = df.loc[ : , ['id_cliente','saldo_atual']]\n",
    "df1['predicted'] = y_pred\n",
    "df_teste = df1.head(20)"
   ]
  },
  {
   "cell_type": "code",
   "execution_count": 8,
   "id": "da48480a",
   "metadata": {
    "ExecuteTime": {
     "end_time": "2023-08-26T18:57:07.088823Z",
     "start_time": "2023-08-26T18:57:07.074670Z"
    }
   },
   "outputs": [
    {
     "data": {
      "text/html": [
       "<div>\n",
       "<style scoped>\n",
       "    .dataframe tbody tr th:only-of-type {\n",
       "        vertical-align: middle;\n",
       "    }\n",
       "\n",
       "    .dataframe tbody tr th {\n",
       "        vertical-align: top;\n",
       "    }\n",
       "\n",
       "    .dataframe thead th {\n",
       "        text-align: right;\n",
       "    }\n",
       "</style>\n",
       "<table border=\"1\" class=\"dataframe\">\n",
       "  <thead>\n",
       "    <tr style=\"text-align: right;\">\n",
       "      <th></th>\n",
       "      <th>id_cliente</th>\n",
       "      <th>saldo_atual</th>\n",
       "      <th>predicted</th>\n",
       "    </tr>\n",
       "  </thead>\n",
       "  <tbody>\n",
       "    <tr>\n",
       "      <th>0</th>\n",
       "      <td>1767</td>\n",
       "      <td>278.172008</td>\n",
       "      <td>346.669549</td>\n",
       "    </tr>\n",
       "    <tr>\n",
       "      <th>1</th>\n",
       "      <td>11920</td>\n",
       "      <td>268.874152</td>\n",
       "      <td>367.840277</td>\n",
       "    </tr>\n",
       "    <tr>\n",
       "      <th>2</th>\n",
       "      <td>8910</td>\n",
       "      <td>446.643127</td>\n",
       "      <td>431.468979</td>\n",
       "    </tr>\n",
       "    <tr>\n",
       "      <th>3</th>\n",
       "      <td>4964</td>\n",
       "      <td>321.141267</td>\n",
       "      <td>445.506463</td>\n",
       "    </tr>\n",
       "    <tr>\n",
       "      <th>4</th>\n",
       "      <td>10100</td>\n",
       "      <td>428.716114</td>\n",
       "      <td>378.271169</td>\n",
       "    </tr>\n",
       "    <tr>\n",
       "      <th>5</th>\n",
       "      <td>2755</td>\n",
       "      <td>327.437723</td>\n",
       "      <td>352.483346</td>\n",
       "    </tr>\n",
       "    <tr>\n",
       "      <th>6</th>\n",
       "      <td>2859</td>\n",
       "      <td>635.332001</td>\n",
       "      <td>410.604085</td>\n",
       "    </tr>\n",
       "    <tr>\n",
       "      <th>7</th>\n",
       "      <td>5569</td>\n",
       "      <td>213.441895</td>\n",
       "      <td>210.685639</td>\n",
       "    </tr>\n",
       "    <tr>\n",
       "      <th>8</th>\n",
       "      <td>11674</td>\n",
       "      <td>566.245423</td>\n",
       "      <td>388.619965</td>\n",
       "    </tr>\n",
       "    <tr>\n",
       "      <th>9</th>\n",
       "      <td>5779</td>\n",
       "      <td>272.577709</td>\n",
       "      <td>301.147706</td>\n",
       "    </tr>\n",
       "    <tr>\n",
       "      <th>10</th>\n",
       "      <td>8283</td>\n",
       "      <td>344.213098</td>\n",
       "      <td>158.096487</td>\n",
       "    </tr>\n",
       "    <tr>\n",
       "      <th>11</th>\n",
       "      <td>10475</td>\n",
       "      <td>203.069402</td>\n",
       "      <td>250.216397</td>\n",
       "    </tr>\n",
       "    <tr>\n",
       "      <th>12</th>\n",
       "      <td>7208</td>\n",
       "      <td>203.385792</td>\n",
       "      <td>391.126281</td>\n",
       "    </tr>\n",
       "    <tr>\n",
       "      <th>13</th>\n",
       "      <td>248</td>\n",
       "      <td>291.134059</td>\n",
       "      <td>412.464266</td>\n",
       "    </tr>\n",
       "    <tr>\n",
       "      <th>14</th>\n",
       "      <td>6272</td>\n",
       "      <td>281.360105</td>\n",
       "      <td>356.149657</td>\n",
       "    </tr>\n",
       "    <tr>\n",
       "      <th>15</th>\n",
       "      <td>3995</td>\n",
       "      <td>233.484387</td>\n",
       "      <td>291.843080</td>\n",
       "    </tr>\n",
       "    <tr>\n",
       "      <th>16</th>\n",
       "      <td>840</td>\n",
       "      <td>298.923610</td>\n",
       "      <td>475.301023</td>\n",
       "    </tr>\n",
       "    <tr>\n",
       "      <th>17</th>\n",
       "      <td>10506</td>\n",
       "      <td>119.197857</td>\n",
       "      <td>340.108938</td>\n",
       "    </tr>\n",
       "    <tr>\n",
       "      <th>18</th>\n",
       "      <td>10552</td>\n",
       "      <td>880.339598</td>\n",
       "      <td>484.103697</td>\n",
       "    </tr>\n",
       "    <tr>\n",
       "      <th>19</th>\n",
       "      <td>5826</td>\n",
       "      <td>378.972910</td>\n",
       "      <td>492.927005</td>\n",
       "    </tr>\n",
       "  </tbody>\n",
       "</table>\n",
       "</div>"
      ],
      "text/plain": [
       "    id_cliente  saldo_atual   predicted\n",
       "0         1767   278.172008  346.669549\n",
       "1        11920   268.874152  367.840277\n",
       "2         8910   446.643127  431.468979\n",
       "3         4964   321.141267  445.506463\n",
       "4        10100   428.716114  378.271169\n",
       "5         2755   327.437723  352.483346\n",
       "6         2859   635.332001  410.604085\n",
       "7         5569   213.441895  210.685639\n",
       "8        11674   566.245423  388.619965\n",
       "9         5779   272.577709  301.147706\n",
       "10        8283   344.213098  158.096487\n",
       "11       10475   203.069402  250.216397\n",
       "12        7208   203.385792  391.126281\n",
       "13         248   291.134059  412.464266\n",
       "14        6272   281.360105  356.149657\n",
       "15        3995   233.484387  291.843080\n",
       "16         840   298.923610  475.301023\n",
       "17       10506   119.197857  340.108938\n",
       "18       10552   880.339598  484.103697\n",
       "19        5826   378.972910  492.927005"
      ]
     },
     "execution_count": 8,
     "metadata": {},
     "output_type": "execute_result"
    }
   ],
   "source": [
    "df_teste"
   ]
  },
  {
   "cell_type": "code",
   "execution_count": 8,
   "id": "4571535c",
   "metadata": {
    "ExecuteTime": {
     "end_time": "2023-08-10T18:29:18.006081Z",
     "start_time": "2023-08-10T18:29:17.987076Z"
    }
   },
   "outputs": [
    {
     "data": {
      "text/plain": [
       "array([190.82359144])"
      ]
     },
     "execution_count": 8,
     "metadata": {},
     "output_type": "execute_result"
    }
   ],
   "source": [
    "# intercept - Onde toca o eixo Y\n",
    "lr.intercept_"
   ]
  },
  {
   "cell_type": "code",
   "execution_count": 75,
   "id": "c5a82430",
   "metadata": {
    "ExecuteTime": {
     "end_time": "2023-08-10T18:58:16.726470Z",
     "start_time": "2023-08-10T18:58:16.714171Z"
    }
   },
   "outputs": [
    {
     "data": {
      "text/plain": [
       "array([[ 3.96706202e-04, -4.00595601e-02,  2.77622532e-06,\n",
       "        -1.04318668e-03,  9.80890872e+00, -1.22353405e-02,\n",
       "        -6.33015538e-03, -3.57808095e-03, -2.15858165e+00,\n",
       "         3.77570060e-04,  6.79176336e-03,  3.48471845e-03]])"
      ]
     },
     "execution_count": 75,
     "metadata": {},
     "output_type": "execute_result"
    }
   ],
   "source": [
    "# coef_ Coeficiente de inclinação da reta\n",
    "lr.coef_"
   ]
  },
  {
   "cell_type": "code",
   "execution_count": 38,
   "id": "9e240db2",
   "metadata": {
    "ExecuteTime": {
     "end_time": "2023-08-10T18:39:22.010711Z",
     "start_time": "2023-08-10T18:39:21.994450Z"
    }
   },
   "outputs": [
    {
     "data": {
      "text/plain": [
       "array([346.66954862])"
      ]
     },
     "execution_count": 38,
     "metadata": {},
     "output_type": "execute_result"
    }
   ],
   "source": [
    "# Cálculo regressão manual\n",
    "np.sum ( lr.coef_ * x_train.loc[0].values ) + lr.intercept_\n",
    "# y = b + m1*b1 + m2*b2 + m3*b3"
   ]
  },
  {
   "cell_type": "code",
   "execution_count": 81,
   "id": "a5e9710d",
   "metadata": {
    "ExecuteTime": {
     "end_time": "2023-08-10T18:59:41.359997Z",
     "start_time": "2023-08-10T18:59:41.338057Z"
    }
   },
   "outputs": [
    {
     "data": {
      "text/plain": [
       "array([2.10000000e+01, 2.57705000e+03, 2.41968964e+04, 1.04306544e+02,\n",
       "       3.10387629e+01, 6.00000000e+00, 5.00000000e+00, 7.00000000e+00,\n",
       "       2.10000000e+01, 1.40000000e+01, 9.00000000e+00, 1.50000000e+01])"
      ]
     },
     "execution_count": 81,
     "metadata": {},
     "output_type": "execute_result"
    }
   ],
   "source": [
    "x_train.loc[0].values"
   ]
  },
  {
   "cell_type": "markdown",
   "id": "c2905e1a",
   "metadata": {},
   "source": [
    "# Performance"
   ]
  },
  {
   "cell_type": "code",
   "execution_count": 82,
   "id": "d18c3670",
   "metadata": {
    "ExecuteTime": {
     "end_time": "2023-08-10T19:00:17.391409Z",
     "start_time": "2023-08-10T19:00:17.377482Z"
    }
   },
   "outputs": [
    {
     "data": {
      "text/plain": [
       "0.16917364489050013"
      ]
     },
     "execution_count": 82,
     "metadata": {},
     "output_type": "execute_result"
    }
   ],
   "source": [
    "mt.r2_score( y_train , y_pred )"
   ]
  },
  {
   "cell_type": "markdown",
   "id": "3c2b1280",
   "metadata": {},
   "source": [
    "# 2.  Correlação de Pearson"
   ]
  },
  {
   "cell_type": "code",
   "execution_count": 117,
   "id": "0af3fe15",
   "metadata": {
    "ExecuteTime": {
     "end_time": "2023-08-26T19:59:04.789641Z",
     "start_time": "2023-08-26T19:59:04.776677Z"
    }
   },
   "outputs": [],
   "source": [
    "preco = {\n",
    "    'preço x': [36,43,49,55,61,63,69,72,74,77],\n",
    "    'demanda y':[ 350,330,296,252,230,218,203,196,188,167]\n",
    "    }\n",
    "\n",
    "df_p = pd.DataFrame.from_dict( preco )"
   ]
  },
  {
   "attachments": {
    "image.png": {
     "image/png": "[encoded data removed]"
    }
   },
   "cell_type": "markdown",
   "id": "7d6ea2a3",
   "metadata": {},
   "source": [
    "![image.png](attachment:image.png)"
   ]
  },
  {
   "cell_type": "code",
   "execution_count": 121,
   "id": "8b283793",
   "metadata": {
    "ExecuteTime": {
     "end_time": "2023-08-26T19:59:22.338765Z",
     "start_time": "2023-08-26T19:59:22.327795Z"
    }
   },
   "outputs": [],
   "source": [
    "# acrescentando as colunas para a correlação de Pearson\n",
    "df_p['x^2'] = df_p['preço x']**2\n",
    "df_p['y^2'] = df_p['demanda y']**2\n",
    "df_p['x * y'] = df_p['preço x'] * df_p['demanda y']\n",
    "df_p['Total Colunas'] = df_p.apply(lambda x : np.sum( x ), axis = 1)\n",
    "n = df_p['preço x'].count() "
   ]
  },
  {
   "cell_type": "code",
   "execution_count": 119,
   "id": "84ed7e31",
   "metadata": {
    "ExecuteTime": {
     "end_time": "2023-08-26T19:59:08.979664Z",
     "start_time": "2023-08-26T19:59:08.967180Z"
    }
   },
   "outputs": [
    {
     "data": {
      "text/html": [
       "<div>\n",
       "<style scoped>\n",
       "    .dataframe tbody tr th:only-of-type {\n",
       "        vertical-align: middle;\n",
       "    }\n",
       "\n",
       "    .dataframe tbody tr th {\n",
       "        vertical-align: top;\n",
       "    }\n",
       "\n",
       "    .dataframe thead th {\n",
       "        text-align: right;\n",
       "    }\n",
       "</style>\n",
       "<table border=\"1\" class=\"dataframe\">\n",
       "  <thead>\n",
       "    <tr style=\"text-align: right;\">\n",
       "      <th></th>\n",
       "      <th>preço x</th>\n",
       "      <th>demanda y</th>\n",
       "      <th>x^2</th>\n",
       "      <th>y^2</th>\n",
       "      <th>x * y</th>\n",
       "      <th>Total Colunas</th>\n",
       "    </tr>\n",
       "  </thead>\n",
       "  <tbody>\n",
       "    <tr>\n",
       "      <th>0</th>\n",
       "      <td>36</td>\n",
       "      <td>350</td>\n",
       "      <td>1296</td>\n",
       "      <td>122500</td>\n",
       "      <td>12600</td>\n",
       "      <td>136782</td>\n",
       "    </tr>\n",
       "    <tr>\n",
       "      <th>1</th>\n",
       "      <td>43</td>\n",
       "      <td>330</td>\n",
       "      <td>1849</td>\n",
       "      <td>108900</td>\n",
       "      <td>14190</td>\n",
       "      <td>125312</td>\n",
       "    </tr>\n",
       "    <tr>\n",
       "      <th>2</th>\n",
       "      <td>49</td>\n",
       "      <td>296</td>\n",
       "      <td>2401</td>\n",
       "      <td>87616</td>\n",
       "      <td>14504</td>\n",
       "      <td>104866</td>\n",
       "    </tr>\n",
       "    <tr>\n",
       "      <th>3</th>\n",
       "      <td>55</td>\n",
       "      <td>252</td>\n",
       "      <td>3025</td>\n",
       "      <td>63504</td>\n",
       "      <td>13860</td>\n",
       "      <td>80696</td>\n",
       "    </tr>\n",
       "    <tr>\n",
       "      <th>4</th>\n",
       "      <td>61</td>\n",
       "      <td>230</td>\n",
       "      <td>3721</td>\n",
       "      <td>52900</td>\n",
       "      <td>14030</td>\n",
       "      <td>70942</td>\n",
       "    </tr>\n",
       "    <tr>\n",
       "      <th>5</th>\n",
       "      <td>63</td>\n",
       "      <td>218</td>\n",
       "      <td>3969</td>\n",
       "      <td>47524</td>\n",
       "      <td>13734</td>\n",
       "      <td>65508</td>\n",
       "    </tr>\n",
       "    <tr>\n",
       "      <th>6</th>\n",
       "      <td>69</td>\n",
       "      <td>203</td>\n",
       "      <td>4761</td>\n",
       "      <td>41209</td>\n",
       "      <td>14007</td>\n",
       "      <td>60249</td>\n",
       "    </tr>\n",
       "    <tr>\n",
       "      <th>7</th>\n",
       "      <td>72</td>\n",
       "      <td>196</td>\n",
       "      <td>5184</td>\n",
       "      <td>38416</td>\n",
       "      <td>14112</td>\n",
       "      <td>57980</td>\n",
       "    </tr>\n",
       "    <tr>\n",
       "      <th>8</th>\n",
       "      <td>74</td>\n",
       "      <td>188</td>\n",
       "      <td>5476</td>\n",
       "      <td>35344</td>\n",
       "      <td>13912</td>\n",
       "      <td>54994</td>\n",
       "    </tr>\n",
       "    <tr>\n",
       "      <th>9</th>\n",
       "      <td>77</td>\n",
       "      <td>167</td>\n",
       "      <td>5929</td>\n",
       "      <td>27889</td>\n",
       "      <td>12859</td>\n",
       "      <td>46921</td>\n",
       "    </tr>\n",
       "  </tbody>\n",
       "</table>\n",
       "</div>"
      ],
      "text/plain": [
       "   preço x  demanda y   x^2     y^2  x * y  Total Colunas\n",
       "0       36        350  1296  122500  12600         136782\n",
       "1       43        330  1849  108900  14190         125312\n",
       "2       49        296  2401   87616  14504         104866\n",
       "3       55        252  3025   63504  13860          80696\n",
       "4       61        230  3721   52900  14030          70942\n",
       "5       63        218  3969   47524  13734          65508\n",
       "6       69        203  4761   41209  14007          60249\n",
       "7       72        196  5184   38416  14112          57980\n",
       "8       74        188  5476   35344  13912          54994\n",
       "9       77        167  5929   27889  12859          46921"
      ]
     },
     "execution_count": 119,
     "metadata": {},
     "output_type": "execute_result"
    }
   ],
   "source": [
    "df_p"
   ]
  },
  {
   "cell_type": "code",
   "execution_count": 140,
   "id": "6be759e9",
   "metadata": {
    "ExecuteTime": {
     "end_time": "2023-08-26T20:14:19.450914Z",
     "start_time": "2023-08-26T20:14:19.430926Z"
    }
   },
   "outputs": [],
   "source": [
    "n = 10\n",
    "sum_xy = df_p['x * y'].sum()\n",
    "sum_x = df_p['preço x'].sum()\n",
    "sum_y = df_p['demanda y'].sum()\n",
    "\n",
    "sum_x2 = df_p['x^2'].sum()\n",
    "sum_y2 = df_p['y^2'].sum()"
   ]
  },
  {
   "cell_type": "code",
   "execution_count": 179,
   "id": "af67d2a1",
   "metadata": {
    "ExecuteTime": {
     "end_time": "2023-08-26T20:23:30.175426Z",
     "start_time": "2023-08-26T20:23:30.158865Z"
    }
   },
   "outputs": [],
   "source": [
    "r = ( n * sum_xy - (sum_x) * (sum_y) ) / np.sqrt(  ( n * sum_x2 - (sum_x**2) )   *  ( n * sum_y2 - (sum_y**2) )   )"
   ]
  },
  {
   "cell_type": "code",
   "execution_count": 180,
   "id": "df117305",
   "metadata": {
    "ExecuteTime": {
     "end_time": "2023-08-26T20:23:31.914319Z",
     "start_time": "2023-08-26T20:23:31.894856Z"
    }
   },
   "outputs": [
    {
     "data": {
      "text/plain": [
       "-0.9911708338405292"
      ]
     },
     "execution_count": 180,
     "metadata": {},
     "output_type": "execute_result"
    }
   ],
   "source": [
    "r"
   ]
  },
  {
   "cell_type": "markdown",
   "id": "75a2eac3",
   "metadata": {},
   "source": [
    "# Equação da reta \n",
    "\n",
    "    y = mx + b \n",
    "    \n",
    "    Onde \n",
    "    \n",
    "    m = coeficiente angular, acompanha o x e dá inclinação da reta\n",
    "    \n",
    "    b = coeficiente linear, interseção com eixo y "
   ]
  },
  {
   "attachments": {
    "image.png": {
     "image/png": "[encoded data removed]"
    }
   },
   "cell_type": "markdown",
   "id": "aacdf8ba",
   "metadata": {},
   "source": [
    "![image.png](attachment:image.png)"
   ]
  },
  {
   "attachments": {
    "image.png": {
     "image/png": "[encoded data removed]"
    }
   },
   "cell_type": "markdown",
   "id": "bc416cb3",
   "metadata": {},
   "source": [
    "![image.png](attachment:image.png)"
   ]
  },
  {
   "cell_type": "markdown",
   "id": "9b7949db",
   "metadata": {},
   "source": [
    " Logo a equação de y_hat = -4.48 * x + 511.16"
   ]
  },
  {
   "cell_type": "code",
   "execution_count": 246,
   "id": "6c82b9de",
   "metadata": {
    "ExecuteTime": {
     "end_time": "2023-08-26T21:00:23.890189Z",
     "start_time": "2023-08-26T21:00:23.885199Z"
    }
   },
   "outputs": [],
   "source": [
    "m = ( n * sum_xy - sum_x * sum_y ) / ( n * sum_x2 - (sum_x**2) )"
   ]
  },
  {
   "cell_type": "code",
   "execution_count": 247,
   "id": "75a73528",
   "metadata": {
    "ExecuteTime": {
     "end_time": "2023-08-26T21:00:25.188495Z",
     "start_time": "2023-08-26T21:00:25.172528Z"
    }
   },
   "outputs": [
    {
     "name": "stdout",
     "output_type": "stream",
     "text": [
      "Coeficiente angular é -4.48\n"
     ]
    }
   ],
   "source": [
    "print('Coeficiente angular é {:,.2f}'.format( m ) )"
   ]
  },
  {
   "cell_type": "code",
   "execution_count": 248,
   "id": "71176733",
   "metadata": {
    "ExecuteTime": {
     "end_time": "2023-08-26T21:00:26.647695Z",
     "start_time": "2023-08-26T21:00:26.628528Z"
    }
   },
   "outputs": [],
   "source": [
    "b = ( sum_x2 * sum_y - sum_x * sum_xy ) / ( (n * sum_x2) - (sum_x**2) )"
   ]
  },
  {
   "cell_type": "code",
   "execution_count": 249,
   "id": "1907056e",
   "metadata": {
    "ExecuteTime": {
     "end_time": "2023-08-26T21:00:27.727325Z",
     "start_time": "2023-08-26T21:00:27.716353Z"
    }
   },
   "outputs": [
    {
     "name": "stdout",
     "output_type": "stream",
     "text": [
      "Coeficiente linear é 511.16\n"
     ]
    }
   ],
   "source": [
    "print('Coeficiente linear é {:,.2f}'.format( b ) )"
   ]
  },
  {
   "cell_type": "markdown",
   "id": "17a46d01",
   "metadata": {},
   "source": [
    "## Fazendo o preço para 120 reais"
   ]
  },
  {
   "cell_type": "code",
   "execution_count": 261,
   "id": "16593776",
   "metadata": {
    "ExecuteTime": {
     "end_time": "2023-08-26T21:03:02.482653Z",
     "start_time": "2023-08-26T21:03:02.468202Z"
    }
   },
   "outputs": [],
   "source": [
    "x = 80"
   ]
  },
  {
   "cell_type": "code",
   "execution_count": 262,
   "id": "e3a2d7fe",
   "metadata": {
    "ExecuteTime": {
     "end_time": "2023-08-26T21:03:04.008897Z",
     "start_time": "2023-08-26T21:03:04.004398Z"
    }
   },
   "outputs": [],
   "source": [
    "y_hat = m * x + b"
   ]
  },
  {
   "cell_type": "code",
   "execution_count": 263,
   "id": "75d43d26",
   "metadata": {
    "ExecuteTime": {
     "end_time": "2023-08-26T21:03:05.219999Z",
     "start_time": "2023-08-26T21:03:05.212067Z"
    }
   },
   "outputs": [
    {
     "data": {
      "text/plain": [
       "153.0150788607083"
      ]
     },
     "execution_count": 263,
     "metadata": {},
     "output_type": "execute_result"
    }
   ],
   "source": [
    "y_hat"
   ]
  },
  {
   "cell_type": "code",
   "execution_count": 252,
   "id": "7410044a",
   "metadata": {
    "ExecuteTime": {
     "end_time": "2023-08-26T21:00:48.508473Z",
     "start_time": "2023-08-26T21:00:48.365660Z"
    }
   },
   "outputs": [
    {
     "data": {
      "text/plain": [
       "<AxesSubplot:xlabel='preço x', ylabel='demanda y'>"
      ]
     },
     "execution_count": 252,
     "metadata": {},
     "output_type": "execute_result"
    },
    {
     "data": {
      "image/png": "[encoded data removed]",
      "text/plain": [
       "<Figure size 640x480 with 1 Axes>"
      ]
     },
     "metadata": {},
     "output_type": "display_data"
    }
   ],
   "source": [
    "sns.lineplot( data = df_p, x = 'preço x', y = 'demanda y', marker = 'o' )"
   ]
  },
  {
   "cell_type": "code",
   "execution_count": null,
   "id": "4af8af53",
   "metadata": {},
   "outputs": [],
   "source": []
  }
 ],
 "metadata": {
  "kernelspec": {
   "display_name": "Python 3 (ipykernel)",
   "language": "python",
   "name": "python3"
  },
  "language_info": {
   "codemirror_mode": {
    "name": "ipython",
    "version": 3
   },
   "file_extension": ".py",
   "mimetype": "text/x-python",
   "name": "python",
   "nbconvert_exporter": "python",
   "pygments_lexer": "ipython3",
   "version": "3.9.13"
  }
 },
 "nbformat": 4,
 "nbformat_minor": 5
}
