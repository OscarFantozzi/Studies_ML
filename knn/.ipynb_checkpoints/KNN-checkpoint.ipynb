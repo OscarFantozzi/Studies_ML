{
 "cells": [
  {
   "cell_type": "markdown",
   "id": "8b7ac4fe",
   "metadata": {},
   "source": [
    "# Ciclo 02 - Aprendizado Supervisionado - Classificação"
   ]
  },
  {
   "cell_type": "markdown",
   "id": "020c8201",
   "metadata": {},
   "source": [
    "## 0.0 Imports Libraries"
   ]
  },
  {
   "cell_type": "code",
   "execution_count": 5,
   "id": "c7193019",
   "metadata": {
    "ExecuteTime": {
     "end_time": "2023-08-01T19:30:15.294976Z",
     "start_time": "2023-08-01T19:30:15.279968Z"
    }
   },
   "outputs": [],
   "source": [
    "import pandas as pd\n",
    "from sklearn.neighbors import KNeighborsClassifier\n",
    "from sklearn.metrics   import accuracy_score"
   ]
  },
  {
   "cell_type": "markdown",
   "id": "04da9861",
   "metadata": {
    "ExecuteTime": {
     "end_time": "2023-06-26T22:00:21.742820Z",
     "start_time": "2023-06-26T22:00:21.737836Z"
    }
   },
   "source": [
    "## 1.0 Load Data"
   ]
  },
  {
   "cell_type": "code",
   "execution_count": 6,
   "id": "13f0d0f4",
   "metadata": {
    "ExecuteTime": {
     "end_time": "2023-08-01T19:30:17.130110Z",
     "start_time": "2023-08-01T19:30:17.072149Z"
    }
   },
   "outputs": [],
   "source": [
    "df = pd.read_csv( 'data/train.csv' )"
   ]
  },
  {
   "cell_type": "code",
   "execution_count": 7,
   "id": "74c36466",
   "metadata": {
    "ExecuteTime": {
     "end_time": "2023-08-01T19:30:19.070009Z",
     "start_time": "2023-08-01T19:30:19.025308Z"
    }
   },
   "outputs": [
    {
     "data": {
      "text/html": [
       "<div>\n",
       "<style scoped>\n",
       "    .dataframe tbody tr th:only-of-type {\n",
       "        vertical-align: middle;\n",
       "    }\n",
       "\n",
       "    .dataframe tbody tr th {\n",
       "        vertical-align: top;\n",
       "    }\n",
       "\n",
       "    .dataframe thead th {\n",
       "        text-align: right;\n",
       "    }\n",
       "</style>\n",
       "<table border=\"1\" class=\"dataframe\">\n",
       "  <thead>\n",
       "    <tr style=\"text-align: right;\">\n",
       "      <th></th>\n",
       "      <th>id_cliente</th>\n",
       "      <th>idade</th>\n",
       "      <th>saldo_atual</th>\n",
       "      <th>divida_atual</th>\n",
       "      <th>renda_anual</th>\n",
       "      <th>valor_em_investimentos</th>\n",
       "      <th>taxa_utilizacao_credito</th>\n",
       "      <th>num_emprestimos</th>\n",
       "      <th>num_contas_bancarias</th>\n",
       "      <th>num_cartoes_credito</th>\n",
       "      <th>dias_atraso_dt_venc</th>\n",
       "      <th>num_pgtos_atrasados</th>\n",
       "      <th>num_consultas_credito</th>\n",
       "      <th>taxa_juros</th>\n",
       "      <th>investe_exterior</th>\n",
       "      <th>pessoa_polit_exp</th>\n",
       "      <th>limite_adicional</th>\n",
       "    </tr>\n",
       "  </thead>\n",
       "  <tbody>\n",
       "    <tr>\n",
       "      <th>0</th>\n",
       "      <td>1767</td>\n",
       "      <td>21</td>\n",
       "      <td>278.172008</td>\n",
       "      <td>2577.05</td>\n",
       "      <td>24196.89636</td>\n",
       "      <td>104.306544</td>\n",
       "      <td>31.038763</td>\n",
       "      <td>6</td>\n",
       "      <td>5</td>\n",
       "      <td>7</td>\n",
       "      <td>21</td>\n",
       "      <td>14</td>\n",
       "      <td>9</td>\n",
       "      <td>15</td>\n",
       "      <td>Não</td>\n",
       "      <td>Não</td>\n",
       "      <td>Negar</td>\n",
       "    </tr>\n",
       "    <tr>\n",
       "      <th>1</th>\n",
       "      <td>11920</td>\n",
       "      <td>40</td>\n",
       "      <td>268.874152</td>\n",
       "      <td>2465.39</td>\n",
       "      <td>19227.37796</td>\n",
       "      <td>69.858778</td>\n",
       "      <td>36.917093</td>\n",
       "      <td>5</td>\n",
       "      <td>8</td>\n",
       "      <td>5</td>\n",
       "      <td>40</td>\n",
       "      <td>23</td>\n",
       "      <td>10</td>\n",
       "      <td>18</td>\n",
       "      <td>Não</td>\n",
       "      <td>Não</td>\n",
       "      <td>Negar</td>\n",
       "    </tr>\n",
       "    <tr>\n",
       "      <th>2</th>\n",
       "      <td>8910</td>\n",
       "      <td>36</td>\n",
       "      <td>446.643127</td>\n",
       "      <td>1055.29</td>\n",
       "      <td>42822.28223</td>\n",
       "      <td>134.201478</td>\n",
       "      <td>34.561714</td>\n",
       "      <td>0</td>\n",
       "      <td>3</td>\n",
       "      <td>6</td>\n",
       "      <td>26</td>\n",
       "      <td>13</td>\n",
       "      <td>3</td>\n",
       "      <td>15</td>\n",
       "      <td>Sim</td>\n",
       "      <td>Não</td>\n",
       "      <td>Negar</td>\n",
       "    </tr>\n",
       "    <tr>\n",
       "      <th>3</th>\n",
       "      <td>4964</td>\n",
       "      <td>58</td>\n",
       "      <td>321.141267</td>\n",
       "      <td>703.05</td>\n",
       "      <td>51786.82600</td>\n",
       "      <td>297.350067</td>\n",
       "      <td>31.493561</td>\n",
       "      <td>0</td>\n",
       "      <td>3</td>\n",
       "      <td>7</td>\n",
       "      <td>12</td>\n",
       "      <td>7</td>\n",
       "      <td>2</td>\n",
       "      <td>1</td>\n",
       "      <td>Sim</td>\n",
       "      <td>Não</td>\n",
       "      <td>Negar</td>\n",
       "    </tr>\n",
       "    <tr>\n",
       "      <th>4</th>\n",
       "      <td>10100</td>\n",
       "      <td>35</td>\n",
       "      <td>428.716114</td>\n",
       "      <td>891.29</td>\n",
       "      <td>44626.85346</td>\n",
       "      <td>134.201478</td>\n",
       "      <td>28.028887</td>\n",
       "      <td>2</td>\n",
       "      <td>8</td>\n",
       "      <td>7</td>\n",
       "      <td>24</td>\n",
       "      <td>10</td>\n",
       "      <td>8</td>\n",
       "      <td>20</td>\n",
       "      <td>Sim</td>\n",
       "      <td>Não</td>\n",
       "      <td>Negar</td>\n",
       "    </tr>\n",
       "  </tbody>\n",
       "</table>\n",
       "</div>"
      ],
      "text/plain": [
       "   id_cliente  idade  saldo_atual  divida_atual  renda_anual  \\\n",
       "0        1767     21   278.172008       2577.05  24196.89636   \n",
       "1       11920     40   268.874152       2465.39  19227.37796   \n",
       "2        8910     36   446.643127       1055.29  42822.28223   \n",
       "3        4964     58   321.141267        703.05  51786.82600   \n",
       "4       10100     35   428.716114        891.29  44626.85346   \n",
       "\n",
       "   valor_em_investimentos  taxa_utilizacao_credito  num_emprestimos  \\\n",
       "0              104.306544                31.038763                6   \n",
       "1               69.858778                36.917093                5   \n",
       "2              134.201478                34.561714                0   \n",
       "3              297.350067                31.493561                0   \n",
       "4              134.201478                28.028887                2   \n",
       "\n",
       "   num_contas_bancarias  num_cartoes_credito  dias_atraso_dt_venc  \\\n",
       "0                     5                    7                   21   \n",
       "1                     8                    5                   40   \n",
       "2                     3                    6                   26   \n",
       "3                     3                    7                   12   \n",
       "4                     8                    7                   24   \n",
       "\n",
       "   num_pgtos_atrasados  num_consultas_credito  taxa_juros investe_exterior  \\\n",
       "0                   14                      9          15              Não   \n",
       "1                   23                     10          18              Não   \n",
       "2                   13                      3          15              Sim   \n",
       "3                    7                      2           1              Sim   \n",
       "4                   10                      8          20              Sim   \n",
       "\n",
       "  pessoa_polit_exp limite_adicional  \n",
       "0              Não            Negar  \n",
       "1              Não            Negar  \n",
       "2              Não            Negar  \n",
       "3              Não            Negar  \n",
       "4              Não            Negar  "
      ]
     },
     "execution_count": 7,
     "metadata": {},
     "output_type": "execute_result"
    }
   ],
   "source": [
    "df.head()"
   ]
  },
  {
   "cell_type": "markdown",
   "id": "7e3de374",
   "metadata": {},
   "source": [
    "## 2.0 Seleção de Features"
   ]
  },
  {
   "cell_type": "code",
   "execution_count": 13,
   "id": "5e296df7",
   "metadata": {
    "ExecuteTime": {
     "end_time": "2023-08-01T19:31:48.808915Z",
     "start_time": "2023-08-01T19:31:48.800900Z"
    }
   },
   "outputs": [],
   "source": [
    "features = ['idade', 'saldo_atual', 'divida_atual', 'renda_anual','valor_em_investimentos', 'taxa_utilizacao_credito',               'num_emprestimos','num_contas_bancarias', 'num_cartoes_credito', 'dias_atraso_dt_venc','num_pgtos_atrasados',             'num_consultas_credito', 'taxa_juros']\n",
    "\n",
    "label = 'limite_adicional'\n",
    "\n",
    "X_train = df[features]\n",
    "y_train = df[label]"
   ]
  },
  {
   "cell_type": "markdown",
   "id": "384060ac",
   "metadata": {
    "ExecuteTime": {
     "end_time": "2023-06-26T22:15:22.719294Z",
     "start_time": "2023-06-26T22:15:22.697264Z"
    }
   },
   "source": [
    "## 3.0 Treinamento"
   ]
  },
  {
   "cell_type": "code",
   "execution_count": 31,
   "id": "dd11f51d",
   "metadata": {
    "ExecuteTime": {
     "end_time": "2023-08-01T19:43:10.847195Z",
     "start_time": "2023-08-01T19:43:10.841171Z"
    }
   },
   "outputs": [],
   "source": [
    "# definição de parametros do treinamento\n",
    "def knn_train( lista , X_train , y_train ):\n",
    "    \n",
    "    df = pd.DataFrame()\n",
    "    \n",
    "    lista_df = []\n",
    "    \n",
    "    for k in lista:\n",
    "    \n",
    "        knn_classifier = KNeighborsClassifier( n_neighbors = k )\n",
    "\n",
    "        # treinamneto algoritmo\n",
    "        knn_classifier.fit( X_train , y_train )\n",
    "\n",
    "        # predicao\n",
    "        y_pred = knn_classifier.predict( X_train )\n",
    "        \n",
    "        acuracia = mt.accuracy_score( y_train , y_pred )\n",
    "        \n",
    "        lista_df.append( {'k' : k, 'acuracia' : acuracia} )\n",
    "        \n",
    "    return pd.DataFrame( lista_df ).sort_values( by = 'acuracia' , ascending = False )"
   ]
  },
  {
   "cell_type": "code",
   "execution_count": 32,
   "id": "51314a7c",
   "metadata": {
    "ExecuteTime": {
     "end_time": "2023-08-01T19:43:17.340241Z",
     "start_time": "2023-08-01T19:43:13.128375Z"
    }
   },
   "outputs": [
    {
     "name": "stderr",
     "output_type": "stream",
     "text": [
      "C:\\Users\\oscar\\anaconda3\\lib\\site-packages\\sklearn\\neighbors\\_classification.py:228: FutureWarning: Unlike other reduction functions (e.g. `skew`, `kurtosis`), the default behavior of `mode` typically preserves the axis it acts along. In SciPy 1.11.0, this behavior will change: the default value of `keepdims` will become False, the `axis` over which the statistic is taken will be eliminated, and the value None will no longer be accepted. Set `keepdims` to True or False to avoid this warning.\n",
      "  mode, _ = stats.mode(_y[neigh_ind, k], axis=1)\n",
      "C:\\Users\\oscar\\anaconda3\\lib\\site-packages\\sklearn\\neighbors\\_classification.py:228: FutureWarning: Unlike other reduction functions (e.g. `skew`, `kurtosis`), the default behavior of `mode` typically preserves the axis it acts along. In SciPy 1.11.0, this behavior will change: the default value of `keepdims` will become False, the `axis` over which the statistic is taken will be eliminated, and the value None will no longer be accepted. Set `keepdims` to True or False to avoid this warning.\n",
      "  mode, _ = stats.mode(_y[neigh_ind, k], axis=1)\n",
      "C:\\Users\\oscar\\anaconda3\\lib\\site-packages\\sklearn\\neighbors\\_classification.py:228: FutureWarning: Unlike other reduction functions (e.g. `skew`, `kurtosis`), the default behavior of `mode` typically preserves the axis it acts along. In SciPy 1.11.0, this behavior will change: the default value of `keepdims` will become False, the `axis` over which the statistic is taken will be eliminated, and the value None will no longer be accepted. Set `keepdims` to True or False to avoid this warning.\n",
      "  mode, _ = stats.mode(_y[neigh_ind, k], axis=1)\n",
      "C:\\Users\\oscar\\anaconda3\\lib\\site-packages\\sklearn\\neighbors\\_classification.py:228: FutureWarning: Unlike other reduction functions (e.g. `skew`, `kurtosis`), the default behavior of `mode` typically preserves the axis it acts along. In SciPy 1.11.0, this behavior will change: the default value of `keepdims` will become False, the `axis` over which the statistic is taken will be eliminated, and the value None will no longer be accepted. Set `keepdims` to True or False to avoid this warning.\n",
      "  mode, _ = stats.mode(_y[neigh_ind, k], axis=1)\n",
      "C:\\Users\\oscar\\anaconda3\\lib\\site-packages\\sklearn\\neighbors\\_classification.py:228: FutureWarning: Unlike other reduction functions (e.g. `skew`, `kurtosis`), the default behavior of `mode` typically preserves the axis it acts along. In SciPy 1.11.0, this behavior will change: the default value of `keepdims` will become False, the `axis` over which the statistic is taken will be eliminated, and the value None will no longer be accepted. Set `keepdims` to True or False to avoid this warning.\n",
      "  mode, _ = stats.mode(_y[neigh_ind, k], axis=1)\n",
      "C:\\Users\\oscar\\anaconda3\\lib\\site-packages\\sklearn\\neighbors\\_classification.py:228: FutureWarning: Unlike other reduction functions (e.g. `skew`, `kurtosis`), the default behavior of `mode` typically preserves the axis it acts along. In SciPy 1.11.0, this behavior will change: the default value of `keepdims` will become False, the `axis` over which the statistic is taken will be eliminated, and the value None will no longer be accepted. Set `keepdims` to True or False to avoid this warning.\n",
      "  mode, _ = stats.mode(_y[neigh_ind, k], axis=1)\n",
      "C:\\Users\\oscar\\anaconda3\\lib\\site-packages\\sklearn\\neighbors\\_classification.py:228: FutureWarning: Unlike other reduction functions (e.g. `skew`, `kurtosis`), the default behavior of `mode` typically preserves the axis it acts along. In SciPy 1.11.0, this behavior will change: the default value of `keepdims` will become False, the `axis` over which the statistic is taken will be eliminated, and the value None will no longer be accepted. Set `keepdims` to True or False to avoid this warning.\n",
      "  mode, _ = stats.mode(_y[neigh_ind, k], axis=1)\n",
      "C:\\Users\\oscar\\anaconda3\\lib\\site-packages\\sklearn\\neighbors\\_classification.py:228: FutureWarning: Unlike other reduction functions (e.g. `skew`, `kurtosis`), the default behavior of `mode` typically preserves the axis it acts along. In SciPy 1.11.0, this behavior will change: the default value of `keepdims` will become False, the `axis` over which the statistic is taken will be eliminated, and the value None will no longer be accepted. Set `keepdims` to True or False to avoid this warning.\n",
      "  mode, _ = stats.mode(_y[neigh_ind, k], axis=1)\n",
      "C:\\Users\\oscar\\anaconda3\\lib\\site-packages\\sklearn\\neighbors\\_classification.py:228: FutureWarning: Unlike other reduction functions (e.g. `skew`, `kurtosis`), the default behavior of `mode` typically preserves the axis it acts along. In SciPy 1.11.0, this behavior will change: the default value of `keepdims` will become False, the `axis` over which the statistic is taken will be eliminated, and the value None will no longer be accepted. Set `keepdims` to True or False to avoid this warning.\n",
      "  mode, _ = stats.mode(_y[neigh_ind, k], axis=1)\n",
      "C:\\Users\\oscar\\anaconda3\\lib\\site-packages\\sklearn\\neighbors\\_classification.py:228: FutureWarning: Unlike other reduction functions (e.g. `skew`, `kurtosis`), the default behavior of `mode` typically preserves the axis it acts along. In SciPy 1.11.0, this behavior will change: the default value of `keepdims` will become False, the `axis` over which the statistic is taken will be eliminated, and the value None will no longer be accepted. Set `keepdims` to True or False to avoid this warning.\n",
      "  mode, _ = stats.mode(_y[neigh_ind, k], axis=1)\n"
     ]
    },
    {
     "data": {
      "text/html": [
       "<div>\n",
       "<style scoped>\n",
       "    .dataframe tbody tr th:only-of-type {\n",
       "        vertical-align: middle;\n",
       "    }\n",
       "\n",
       "    .dataframe tbody tr th {\n",
       "        vertical-align: top;\n",
       "    }\n",
       "\n",
       "    .dataframe thead th {\n",
       "        text-align: right;\n",
       "    }\n",
       "</style>\n",
       "<table border=\"1\" class=\"dataframe\">\n",
       "  <thead>\n",
       "    <tr style=\"text-align: right;\">\n",
       "      <th></th>\n",
       "      <th>k</th>\n",
       "      <th>acuracia</th>\n",
       "    </tr>\n",
       "  </thead>\n",
       "  <tbody>\n",
       "    <tr>\n",
       "      <th>0</th>\n",
       "      <td>3</td>\n",
       "      <td>0.885474</td>\n",
       "    </tr>\n",
       "    <tr>\n",
       "      <th>1</th>\n",
       "      <td>5</td>\n",
       "      <td>0.866737</td>\n",
       "    </tr>\n",
       "    <tr>\n",
       "      <th>2</th>\n",
       "      <td>7</td>\n",
       "      <td>0.859053</td>\n",
       "    </tr>\n",
       "    <tr>\n",
       "      <th>3</th>\n",
       "      <td>9</td>\n",
       "      <td>0.852842</td>\n",
       "    </tr>\n",
       "    <tr>\n",
       "      <th>4</th>\n",
       "      <td>11</td>\n",
       "      <td>0.850000</td>\n",
       "    </tr>\n",
       "    <tr>\n",
       "      <th>5</th>\n",
       "      <td>13</td>\n",
       "      <td>0.849263</td>\n",
       "    </tr>\n",
       "    <tr>\n",
       "      <th>6</th>\n",
       "      <td>15</td>\n",
       "      <td>0.848000</td>\n",
       "    </tr>\n",
       "    <tr>\n",
       "      <th>7</th>\n",
       "      <td>17</td>\n",
       "      <td>0.847895</td>\n",
       "    </tr>\n",
       "    <tr>\n",
       "      <th>8</th>\n",
       "      <td>19</td>\n",
       "      <td>0.847895</td>\n",
       "    </tr>\n",
       "    <tr>\n",
       "      <th>9</th>\n",
       "      <td>21</td>\n",
       "      <td>0.846211</td>\n",
       "    </tr>\n",
       "  </tbody>\n",
       "</table>\n",
       "</div>"
      ],
      "text/plain": [
       "    k  acuracia\n",
       "0   3  0.885474\n",
       "1   5  0.866737\n",
       "2   7  0.859053\n",
       "3   9  0.852842\n",
       "4  11  0.850000\n",
       "5  13  0.849263\n",
       "6  15  0.848000\n",
       "7  17  0.847895\n",
       "8  19  0.847895\n",
       "9  21  0.846211"
      ]
     },
     "execution_count": 32,
     "metadata": {},
     "output_type": "execute_result"
    }
   ],
   "source": [
    "lista_k = [3, 5, 7, 9, 11, 13,15, 17, 19, 21]\n",
    "\n",
    "knn_train(lista_k, X_train , y_train)"
   ]
  },
  {
   "cell_type": "code",
   "execution_count": 16,
   "id": "6b4c2e8a",
   "metadata": {
    "ExecuteTime": {
     "end_time": "2023-08-01T19:32:15.884328Z",
     "start_time": "2023-08-01T19:32:15.504935Z"
    }
   },
   "outputs": [
    {
     "name": "stderr",
     "output_type": "stream",
     "text": [
      "C:\\Users\\oscar\\anaconda3\\lib\\site-packages\\sklearn\\neighbors\\_classification.py:228: FutureWarning: Unlike other reduction functions (e.g. `skew`, `kurtosis`), the default behavior of `mode` typically preserves the axis it acts along. In SciPy 1.11.0, this behavior will change: the default value of `keepdims` will become False, the `axis` over which the statistic is taken will be eliminated, and the value None will no longer be accepted. Set `keepdims` to True or False to avoid this warning.\n",
      "  mode, _ = stats.mode(_y[neigh_ind, k], axis=1)\n"
     ]
    }
   ],
   "source": [
    "y_pred = knn_classifier.predict( X_train )"
   ]
  },
  {
   "cell_type": "code",
   "execution_count": 17,
   "id": "15fb338d",
   "metadata": {
    "ExecuteTime": {
     "end_time": "2023-08-01T19:32:18.326118Z",
     "start_time": "2023-08-01T19:32:18.312671Z"
    }
   },
   "outputs": [],
   "source": [
    "df_result = df.copy()\n",
    "df_result['classificacao'] = y_pred"
   ]
  },
  {
   "cell_type": "markdown",
   "id": "665207a6",
   "metadata": {
    "ExecuteTime": {
     "end_time": "2023-06-29T22:09:43.444021Z",
     "start_time": "2023-06-29T22:09:43.425264Z"
    }
   },
   "source": [
    "## 4.0 Performance"
   ]
  },
  {
   "cell_type": "markdown",
   "id": "65dfdd5a",
   "metadata": {},
   "source": [
    "### 4.1 Matrix de confusão"
   ]
  },
  {
   "cell_type": "code",
   "execution_count": 35,
   "id": "2da2d488",
   "metadata": {
    "ExecuteTime": {
     "end_time": "2023-08-01T20:06:26.800762Z",
     "start_time": "2023-08-01T20:06:26.761759Z"
    }
   },
   "outputs": [
    {
     "data": {
      "text/plain": [
       "Negar       7995\n",
       "Conceder    1505\n",
       "Name: limite_adicional, dtype: int64"
      ]
     },
     "execution_count": 35,
     "metadata": {},
     "output_type": "execute_result"
    }
   ],
   "source": [
    "y_train.value_counts()"
   ]
  },
  {
   "cell_type": "code",
   "execution_count": 19,
   "id": "eed33a0d",
   "metadata": {
    "ExecuteTime": {
     "end_time": "2023-08-01T19:32:30.739806Z",
     "start_time": "2023-08-01T19:32:30.704902Z"
    }
   },
   "outputs": [
    {
     "data": {
      "text/plain": [
       "array([[ 369, 1136],\n",
       "       [ 203, 7792]], dtype=int64)"
      ]
     },
     "execution_count": 19,
     "metadata": {},
     "output_type": "execute_result"
    }
   ],
   "source": [
    "mt.confusion_matrix( y_train , y_pred )"
   ]
  },
  {
   "cell_type": "markdown",
   "id": "65dc7120",
   "metadata": {},
   "source": [
    "### 4.2 Acurácia"
   ]
  },
  {
   "cell_type": "code",
   "execution_count": 20,
   "id": "eea00a8d",
   "metadata": {
    "ExecuteTime": {
     "end_time": "2023-08-01T19:32:36.988377Z",
     "start_time": "2023-08-01T19:32:36.928950Z"
    }
   },
   "outputs": [
    {
     "data": {
      "text/plain": [
       "0.8590526315789474"
      ]
     },
     "execution_count": 20,
     "metadata": {},
     "output_type": "execute_result"
    }
   ],
   "source": [
    "mt.accuracy_score( y_train , y_pred )"
   ]
  },
  {
   "cell_type": "code",
   "execution_count": 21,
   "id": "351b0ac3",
   "metadata": {
    "ExecuteTime": {
     "end_time": "2023-08-01T19:32:59.552964Z",
     "start_time": "2023-08-01T19:32:59.537006Z"
    }
   },
   "outputs": [
    {
     "data": {
      "text/plain": [
       "0.8590526315789474"
      ]
     },
     "execution_count": 21,
     "metadata": {},
     "output_type": "execute_result"
    }
   ],
   "source": [
    "(369+7792) / (369+1136+203+7792)"
   ]
  },
  {
   "cell_type": "code",
   "execution_count": 39,
   "id": "28c0d9ee",
   "metadata": {
    "ExecuteTime": {
     "end_time": "2023-08-01T20:12:11.111449Z",
     "start_time": "2023-08-01T20:12:11.041785Z"
    }
   },
   "outputs": [
    {
     "data": {
      "text/plain": [
       "0.8727598566308243"
      ]
     },
     "execution_count": 39,
     "metadata": {},
     "output_type": "execute_result"
    }
   ],
   "source": [
    "mt.precision_score( y_train , y_pred , pos_label = 'Negar' )"
   ]
  },
  {
   "cell_type": "code",
   "execution_count": 41,
   "id": "d342edc5",
   "metadata": {
    "ExecuteTime": {
     "end_time": "2023-08-01T20:12:46.669762Z",
     "start_time": "2023-08-01T20:12:46.657793Z"
    }
   },
   "outputs": [
    {
     "data": {
      "text/plain": [
       "0.8727598566308243"
      ]
     },
     "execution_count": 41,
     "metadata": {},
     "output_type": "execute_result"
    }
   ],
   "source": [
    "7792/(1136+7792)"
   ]
  },
  {
   "cell_type": "code",
   "execution_count": null,
   "id": "11832c80",
   "metadata": {},
   "outputs": [],
   "source": []
  }
 ],
 "metadata": {
  "kernelspec": {
   "display_name": "Python 3 (ipykernel)",
   "language": "python",
   "name": "python3"
  },
  "language_info": {
   "codemirror_mode": {
    "name": "ipython",
    "version": 3
   },
   "file_extension": ".py",
   "mimetype": "text/x-python",
   "name": "python",
   "nbconvert_exporter": "python",
   "pygments_lexer": "ipython3",
   "version": "3.9.13"
  }
 },
 "nbformat": 4,
 "nbformat_minor": 5
}
